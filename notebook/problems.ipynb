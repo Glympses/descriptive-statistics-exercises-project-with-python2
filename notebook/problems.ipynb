{
    "cells": [
        {
            "cell_type": "markdown",
            "id": "ac622319",
            "metadata": {},
            "source": [
                "# Descriptive statistics problems"
            ]
        },
        {
            "cell_type": "markdown",
            "id": "5e0ab0d5",
            "metadata": {},
            "source": [
                "### Exercise 1\n",
                "\n",
                "We will use NumPy to obtain information to describe statistically.\n",
                "\n",
                "- Generate an array of 100 elements following a normal distribution.\n",
                "- Generate an array of 100 elements following a chi-square distribution with 3 degrees of freedom.\n",
                "- Calculate the main metrics and statistical measures that best describe the two vectors."
            ]
        },
        {
            "cell_type": "code",
            "execution_count": 11,
            "id": "34720ab6",
            "metadata": {},
            "outputs": [],
            "source": [
                "# TODO\n",
                "import numpy as np\n",
                "\n",
                "normy = np.random.normal(size=100)\n",
                "chi2 = np.random.chisquare(3,100)"
            ]
        },
        {
            "cell_type": "code",
            "execution_count": 12,
            "id": "02f12499",
            "metadata": {},
            "outputs": [
                {
                    "data": {
                        "text/plain": [
                            "array([ 2.95765796,  2.51209767,  1.57337657,  6.90392975,  0.64924178,\n",
                            "        1.99419524,  2.12826292,  2.24318937,  1.4474938 ,  2.55702504,\n",
                            "        2.34938905,  5.59598459,  0.93789974,  3.88631794,  3.11262205,\n",
                            "        0.9791444 ,  2.36328832,  6.85488214,  1.28869777,  6.45152659,\n",
                            "        8.60311948,  0.70911025,  2.92996824,  1.64787659,  1.98989971,\n",
                            "        8.1650228 ,  5.57218724,  1.38482636,  0.87052252,  5.29761577,\n",
                            "        5.98543607,  4.4663128 ,  2.08558351,  0.87354894,  1.38255756,\n",
                            "        6.7398456 ,  1.81830069,  2.06502003,  3.11627448,  0.96691123,\n",
                            "        5.60663737,  1.80769643,  0.58828343,  2.19740245,  0.65984127,\n",
                            "        4.25077955,  2.56374248,  0.21961288,  0.34320057,  1.83083561,\n",
                            "        0.16475216,  8.50621915,  1.38361215,  3.36593155,  3.46321982,\n",
                            "        3.37861632,  2.07327193,  6.82138797,  0.39651006,  3.62453659,\n",
                            "        4.86710988,  0.95943719,  2.22365111,  2.37861255,  4.52375127,\n",
                            "        4.46439879,  1.22528519,  3.79967665,  3.48306294,  6.54003894,\n",
                            "        0.78937083,  1.87528294,  3.4340323 ,  3.92183512,  0.2182784 ,\n",
                            "        2.60362719,  0.9733237 ,  4.22735889,  9.52584471,  0.31311773,\n",
                            "        2.98225805,  2.10446347,  1.87521939,  2.34939306,  1.77961205,\n",
                            "        1.58680113,  5.18434749,  5.7937764 ,  4.49276324,  5.59264476,\n",
                            "        1.14175525,  2.73701198,  4.96363681,  2.42169251,  4.72368996,\n",
                            "        0.89858422, 11.21364525,  1.07262071,  5.83688773,  1.58425756])"
                        ]
                    },
                    "execution_count": 12,
                    "metadata": {},
                    "output_type": "execute_result"
                }
            ],
            "source": [
                "chi2"
            ]
        },
        {
            "cell_type": "code",
            "execution_count": 13,
            "id": "dd1728aa",
            "metadata": {},
            "outputs": [
                {
                    "name": "stdout",
                    "output_type": "stream",
                    "text": [
                        "Media Normal: -0.09083368077809507\n",
                        "Media Chi2: 3.1138440964627745\n"
                    ]
                }
            ],
            "source": [
                "import statistics as stats\n",
                "\n",
                "print(f'Media Normal: {stats.mean(normy)}')\n",
                "print(f'Media Chi2: {stats.mean(chi2)}')"
            ]
        },
        {
            "cell_type": "code",
            "execution_count": 15,
            "id": "266c6942",
            "metadata": {},
            "outputs": [
                {
                    "name": "stdout",
                    "output_type": "stream",
                    "text": [
                        "2.6666666666666665\n",
                        "2\n"
                    ]
                }
            ],
            "source": [
                "lista= [1,2,5]\n",
                "print(stats.mean(lista))\n",
                "print(stats.median(lista))"
            ]
        },
        {
            "cell_type": "code",
            "execution_count": 16,
            "id": "5686ccdb",
            "metadata": {},
            "outputs": [
                {
                    "name": "stdout",
                    "output_type": "stream",
                    "text": [
                        "Mediana Normal: -0.002062306599700058\n",
                        "Mediana Chi2: 2.370950433337055\n"
                    ]
                }
            ],
            "source": [
                "print(f'Mediana Normal: {stats.median(normy)}')\n",
                "print(f'Mediana Chi2: {stats.median(chi2)}')"
            ]
        },
        {
            "cell_type": "code",
            "execution_count": 17,
            "id": "540377a8",
            "metadata": {},
            "outputs": [
                {
                    "name": "stdout",
                    "output_type": "stream",
                    "text": [
                        "Moda Normal: -1.480691753967246\n",
                        "Moda Chi2: 2.957657955926273\n"
                    ]
                }
            ],
            "source": [
                "print(f'Moda Normal: {stats.mode(normy)}')\n",
                "print(f'Moda Chi2: {stats.mode(chi2)}')"
            ]
        },
        {
            "cell_type": "code",
            "execution_count": 18,
            "id": "716db945",
            "metadata": {},
            "outputs": [
                {
                    "name": "stdout",
                    "output_type": "stream",
                    "text": [
                        "Rango Normal: 5.335185156110317\n",
                        "Rango Chi2: 11.048893083316083\n"
                    ]
                }
            ],
            "source": [
                "rango_normal = max(normy) - min(normy)\n",
                "rango_chi2 = max(chi2)-min(chi2)\n",
                "print(f'Rango Normal: {rango_normal}')\n",
                "print(f'Rango Chi2: {rango_chi2}')"
            ]
        },
        {
            "cell_type": "code",
            "execution_count": 19,
            "id": "7d61db82",
            "metadata": {},
            "outputs": [
                {
                    "name": "stdout",
                    "output_type": "stream",
                    "text": [
                        "Varianza Normal: 1.308966321549565\n",
                        "Varianza Chi2: 5.292006136986594\n",
                        "Desviación Estandar Normal: 1.1441006605843582\n",
                        "Desviación Estandar Chi2: 2.300436075396705\n"
                    ]
                }
            ],
            "source": [
                "print(f'Varianza Normal: {stats.variance(normy)}')\n",
                "print(f'Varianza Chi2: {stats.variance(chi2)}')\n",
                "print(f'Desviación Estandar Normal: {stats.stdev(normy)}')\n",
                "print(f'Desviación Estandar Chi2: {stats.stdev(chi2)}')"
            ]
        },
        {
            "cell_type": "code",
            "execution_count": 21,
            "id": "f7dbc412",
            "metadata": {},
            "outputs": [
                {
                    "name": "stdout",
                    "output_type": "stream",
                    "text": [
                        "Simetría Normal: -0.15485008734676442\n",
                        "Simetría Chi2: 1.101665450236202\n"
                    ]
                }
            ],
            "source": [
                "from scipy.stats import skew\n",
                "from scipy.stats import kurtosis\n",
                "print(f'Simetría Normal: {skew(normy)}')\n",
                "print(f'Simetría Chi2: {skew(chi2)}')"
            ]
        },
        {
            "cell_type": "code",
            "execution_count": 22,
            "id": "2bba0c4a",
            "metadata": {},
            "outputs": [
                {
                    "name": "stdout",
                    "output_type": "stream",
                    "text": [
                        "Kurtosis Normal: 0.014179607342012623\n",
                        "Kurtosis Chi2: 0.9084543546072887\n"
                    ]
                }
            ],
            "source": [
                "print(f'Kurtosis Normal: {kurtosis(normy)}')\n",
                "print(f'Kurtosis Chi2: {kurtosis(chi2)}')"
            ]
        },
        {
            "cell_type": "markdown",
            "id": "46c70c3d",
            "metadata": {},
            "source": [
                "### Exercise 2\n",
                "\n",
                "Write a Python program to calculate the standard deviation of the following data:\n",
                "\n",
                "```py\n",
                "data = [4, 2, 5, 8, 6]\n",
                "```"
            ]
        },
        {
            "cell_type": "code",
            "execution_count": 27,
            "id": "d590308e",
            "metadata": {},
            "outputs": [
                {
                    "name": "stdout",
                    "output_type": "stream",
                    "text": [
                        " Datos para calcular: [4, 2, 5, 8, 6]\n",
                        "Desviación Estandar: 2.23606797749979\n",
                        "Desviación Estandar Stats: 2.23606797749979\n"
                    ]
                }
            ],
            "source": [
                "# TODO\n",
                "import math\n",
                "def media(lista):\n",
                "    suma = sum(lista)\n",
                "    promedio = suma/len(lista)\n",
                "    return promedio\n",
                "\n",
                "data = [4,2,5,8,6]\n",
                "test = [1,2,5]\n",
                "\n",
                "def devest(lista):\n",
                "    promedio = media(lista)\n",
                "    sumatoria = 0\n",
                "    for elemento in lista:\n",
                "        sumatoria += (elemento - promedio) ** 2\n",
                "    prom_distancias = sumatoria/ (len(lista)-1)\n",
                "    de = math.sqrt(prom_distancias)\n",
                "    return de\n",
                "\n",
                "print(f' Datos para calcular: {data}')\n",
                "print(f'Desviación Estandar: {devest(data)}')\n",
                "print(f'Desviación Estandar Stats: {stats.stdev(data)}')\n"
            ]
        }
    ],
    "metadata": {
        "kernelspec": {
            "display_name": "Python 3",
            "language": "python",
            "name": "python3"
        },
        "language_info": {
            "codemirror_mode": {
                "name": "ipython",
                "version": 3
            },
            "file_extension": ".py",
            "mimetype": "text/x-python",
            "name": "python",
            "nbconvert_exporter": "python",
            "pygments_lexer": "ipython3",
            "version": "3.11.4"
        }
    },
    "nbformat": 4,
    "nbformat_minor": 5
}
